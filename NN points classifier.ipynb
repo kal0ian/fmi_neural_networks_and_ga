{
 "cells": [
  {
   "cell_type": "code",
   "execution_count": 1,
   "metadata": {},
   "outputs": [
    {
     "name": "stderr",
     "output_type": "stream",
     "text": [
      "Using TensorFlow backend.\n"
     ]
    }
   ],
   "source": [
    "import pandas as pd\n",
    "import numpy as np\n",
    "import matplotlib.pyplot as plt\n",
    "from sklearn.model_selection import train_test_split\n",
    "from keras.models import Sequential\n",
    "from keras.layers import Dense"
   ]
  },
  {
   "cell_type": "code",
   "execution_count": 2,
   "metadata": {},
   "outputs": [],
   "source": [
    "df_train = pd.read_csv(\"data_train.csv\")\n",
    "df_test = pd.read_csv(\"data_test.csv\")"
   ]
  },
  {
   "cell_type": "code",
   "execution_count": 3,
   "metadata": {},
   "outputs": [],
   "source": [
    "x_train = df_train.values[:,:-1]\n",
    "y_train = df_train.values[:,-1]"
   ]
  },
  {
   "cell_type": "code",
   "execution_count": 4,
   "metadata": {},
   "outputs": [],
   "source": [
    "x_test = df_test.values[:,:-1]\n",
    "y_test = df_test.values[:,-1]"
   ]
  },
  {
   "cell_type": "code",
   "execution_count": 5,
   "metadata": {},
   "outputs": [],
   "source": [
    "model = Sequential()\n",
    "model.add(Dense(16, input_dim=3, activation='relu'))\n",
    "model.add(Dense(1, activation='sigmoid'))\n",
    "model.compile(loss='binary_crossentropy', optimizer='adam', metrics=['accuracy'])"
   ]
  },
  {
   "cell_type": "code",
   "execution_count": 6,
   "metadata": {
    "scrolled": true
   },
   "outputs": [
    {
     "name": "stdout",
     "output_type": "stream",
     "text": [
      "Train on 3600 samples, validate on 400 samples\n",
      "Epoch 1/30\n",
      "3600/3600 [==============================] - 1s 145us/step - loss: 0.9556 - acc: 0.7150 - val_loss: 0.5856 - val_acc: 0.8775\n",
      "Epoch 2/30\n",
      "3600/3600 [==============================] - 0s 91us/step - loss: 0.4546 - acc: 0.9125 - val_loss: 0.4102 - val_acc: 0.9225\n",
      "Epoch 3/30\n",
      "3600/3600 [==============================] - 0s 92us/step - loss: 0.3423 - acc: 0.9328 - val_loss: 0.3066 - val_acc: 0.9450\n",
      "Epoch 4/30\n",
      "3600/3600 [==============================] - 0s 91us/step - loss: 0.2676 - acc: 0.9506 - val_loss: 0.2465 - val_acc: 0.9725\n",
      "Epoch 5/30\n",
      "3600/3600 [==============================] - 0s 89us/step - loss: 0.2157 - acc: 0.9656 - val_loss: 0.2019 - val_acc: 0.9550\n",
      "Epoch 6/30\n",
      "3600/3600 [==============================] - 0s 91us/step - loss: 0.1784 - acc: 0.9719 - val_loss: 0.1712 - val_acc: 0.9775\n",
      "Epoch 7/30\n",
      "3600/3600 [==============================] - 0s 95us/step - loss: 0.1502 - acc: 0.9767 - val_loss: 0.1464 - val_acc: 0.9650\n",
      "Epoch 8/30\n",
      "3600/3600 [==============================] - 0s 98us/step - loss: 0.1296 - acc: 0.9794 - val_loss: 0.1299 - val_acc: 0.9900\n",
      "Epoch 9/30\n",
      "3600/3600 [==============================] - 0s 92us/step - loss: 0.1157 - acc: 0.9817 - val_loss: 0.1214 - val_acc: 0.9775\n",
      "Epoch 10/30\n",
      "3600/3600 [==============================] - 0s 100us/step - loss: 0.1065 - acc: 0.9781 - val_loss: 0.1114 - val_acc: 0.9825\n",
      "Epoch 11/30\n",
      "3600/3600 [==============================] - 0s 92us/step - loss: 0.0969 - acc: 0.9822 - val_loss: 0.0966 - val_acc: 0.9900\n",
      "Epoch 12/30\n",
      "3600/3600 [==============================] - 0s 137us/step - loss: 0.0891 - acc: 0.9789 - val_loss: 0.0926 - val_acc: 0.9825\n",
      "Epoch 13/30\n",
      "3600/3600 [==============================] - 0s 133us/step - loss: 0.0810 - acc: 0.9836 - val_loss: 0.0825 - val_acc: 0.9925\n",
      "Epoch 14/30\n",
      "3600/3600 [==============================] - 0s 98us/step - loss: 0.0752 - acc: 0.9867 - val_loss: 0.0811 - val_acc: 0.9800\n",
      "Epoch 15/30\n",
      "3600/3600 [==============================] - 0s 120us/step - loss: 0.0728 - acc: 0.9853 - val_loss: 0.0742 - val_acc: 0.9900\n",
      "Epoch 16/30\n",
      "3600/3600 [==============================] - 0s 106us/step - loss: 0.0691 - acc: 0.9844 - val_loss: 0.0768 - val_acc: 0.9800\n",
      "Epoch 17/30\n",
      "3600/3600 [==============================] - 0s 89us/step - loss: 0.0651 - acc: 0.9842 - val_loss: 0.0685 - val_acc: 0.9850\n",
      "Epoch 18/30\n",
      "3600/3600 [==============================] - 0s 89us/step - loss: 0.0628 - acc: 0.9847 - val_loss: 0.0654 - val_acc: 0.9875\n",
      "Epoch 19/30\n",
      "3600/3600 [==============================] - 0s 94us/step - loss: 0.0621 - acc: 0.9817 - val_loss: 0.0621 - val_acc: 0.9925\n",
      "Epoch 20/30\n",
      "3600/3600 [==============================] - 0s 94us/step - loss: 0.0586 - acc: 0.9886 - val_loss: 0.0742 - val_acc: 0.9725\n",
      "Epoch 21/30\n",
      "3600/3600 [==============================] - 0s 113us/step - loss: 0.0578 - acc: 0.9869 - val_loss: 0.0589 - val_acc: 0.9875\n",
      "Epoch 22/30\n",
      "3600/3600 [==============================] - 0s 104us/step - loss: 0.0557 - acc: 0.9869 - val_loss: 0.0586 - val_acc: 0.9825\n",
      "Epoch 23/30\n",
      "3600/3600 [==============================] - 0s 97us/step - loss: 0.0536 - acc: 0.9856 - val_loss: 0.0611 - val_acc: 0.9825\n",
      "Epoch 24/30\n",
      "3600/3600 [==============================] - 0s 92us/step - loss: 0.0535 - acc: 0.9842 - val_loss: 0.0551 - val_acc: 0.9925\n",
      "Epoch 25/30\n",
      "3600/3600 [==============================] - 0s 95us/step - loss: 0.0517 - acc: 0.9864 - val_loss: 0.0523 - val_acc: 0.9950\n",
      "Epoch 26/30\n",
      "3600/3600 [==============================] - 0s 94us/step - loss: 0.0496 - acc: 0.9875 - val_loss: 0.0619 - val_acc: 0.9725\n",
      "Epoch 27/30\n",
      "3600/3600 [==============================] - 0s 96us/step - loss: 0.0504 - acc: 0.9858 - val_loss: 0.0543 - val_acc: 0.9850\n",
      "Epoch 28/30\n",
      "3600/3600 [==============================] - 0s 93us/step - loss: 0.0482 - acc: 0.9883 - val_loss: 0.0499 - val_acc: 0.9875\n",
      "Epoch 29/30\n",
      "3600/3600 [==============================] - 0s 102us/step - loss: 0.0472 - acc: 0.9875 - val_loss: 0.0574 - val_acc: 0.9800\n",
      "Epoch 30/30\n",
      "3600/3600 [==============================] - 0s 92us/step - loss: 0.0457 - acc: 0.9886 - val_loss: 0.0472 - val_acc: 0.9900\n"
     ]
    }
   ],
   "source": [
    "history = model.fit(x_train, y_train, epochs=30, batch_size=10, validation_split=0.1, verbose=1)"
   ]
  },
  {
   "cell_type": "code",
   "execution_count": 7,
   "metadata": {},
   "outputs": [
    {
     "name": "stdout",
     "output_type": "stream",
     "text": [
      "1000/1000 [==============================] - 0s 16us/step\n"
     ]
    },
    {
     "data": {
      "text/plain": [
       "[0.04169349988177419, 0.992]"
      ]
     },
     "execution_count": 7,
     "metadata": {},
     "output_type": "execute_result"
    }
   ],
   "source": [
    "model.evaluate(x_test, y_test)"
   ]
  },
  {
   "cell_type": "code",
   "execution_count": 8,
   "metadata": {},
   "outputs": [
    {
     "data": {
      "image/png": "[encoded data removed]",
      "text/plain": [
       "<Figure size 432x288 with 1 Axes>"
      ]
     },
     "metadata": {},
     "output_type": "display_data"
    }
   ],
   "source": [
    "plt.plot(history.history['loss'])\n",
    "plt.plot(history.history['val_loss'])\n",
    "plt.title('model loss')\n",
    "plt.ylabel('loss')\n",
    "plt.xlabel('epoch')\n",
    "plt.legend(['train', 'validation'], loc='upper left')\n",
    "plt.show()"
   ]
  },
  {
   "cell_type": "code",
   "execution_count": null,
   "metadata": {},
   "outputs": [],
   "source": []
  }
 ],
 "metadata": {
  "kernelspec": {
   "display_name": "Python 3",
   "language": "python",
   "name": "python3"
  },
  "language_info": {
   "codemirror_mode": {
    "name": "ipython",
    "version": 3
   },
   "file_extension": ".py",
   "mimetype": "text/x-python",
   "name": "python",
   "nbconvert_exporter": "python",
   "pygments_lexer": "ipython3",
   "version": "3.6.5"
  }
 },
 "nbformat": 4,
 "nbformat_minor": 2
}
