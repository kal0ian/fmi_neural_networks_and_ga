{
 "cells": [
  {
   "cell_type": "code",
   "execution_count": 1,
   "metadata": {},
   "outputs": [
    {
     "name": "stderr",
     "output_type": "stream",
     "text": [
      "Using TensorFlow backend.\n"
     ]
    }
   ],
   "source": [
    "import numpy as np\n",
    "import pandas as pd\n",
    "from keras.preprocessing.text import Tokenizer\n",
    "from keras import models\n",
    "from keras import layers\n",
    "from sklearn.datasets import make_regression\n",
    "from sklearn.model_selection import train_test_split\n",
    "from sklearn import preprocessing\n",
    "import matplotlib.pyplot as plt"
   ]
  },
  {
   "cell_type": "code",
   "execution_count": 2,
   "metadata": {},
   "outputs": [],
   "source": [
    "df_train = pd.read_csv(\"data_train.csv\")\n",
    "df_test = pd.read_csv(\"data_test.csv\")"
   ]
  },
  {
   "cell_type": "code",
   "execution_count": 3,
   "metadata": {},
   "outputs": [],
   "source": [
    "x_train = df_train.values[:,:-2]\n",
    "y_train = df_train.values[:,-2]"
   ]
  },
  {
   "cell_type": "code",
   "execution_count": 4,
   "metadata": {},
   "outputs": [],
   "source": [
    "x_test = df_test.values[:,:-2]\n",
    "y_test = df_test.values[:,-2]"
   ]
  },
  {
   "cell_type": "code",
   "execution_count": 5,
   "metadata": {},
   "outputs": [],
   "source": [
    "model = models.Sequential()\n",
    "model.add(layers.Dense(units=32, activation='relu', input_shape=(x_train.shape[1],)))\n",
    "model.add(layers.Dense(units=32, activation='relu'))\n",
    "model.add(layers.Dense(units=1))\n",
    "model.compile(loss='mse',\n",
    "              optimizer='RMSprop',\n",
    "              metrics=['mse'])"
   ]
  },
  {
   "cell_type": "code",
   "execution_count": 6,
   "metadata": {},
   "outputs": [
    {
     "name": "stdout",
     "output_type": "stream",
     "text": [
      "Train on 4000 samples, validate on 1000 samples\n",
      "Epoch 1/60\n",
      "4000/4000 [==============================] - 0s 116us/step - loss: 1017.5935 - mean_squared_error: 1017.5935 - val_loss: 155.6139 - val_mean_squared_error: 155.6139\n",
      "Epoch 2/60\n",
      "4000/4000 [==============================] - 0s 77us/step - loss: 42.9721 - mean_squared_error: 42.9721 - val_loss: 18.9377 - val_mean_squared_error: 18.9377\n",
      "Epoch 3/60\n",
      "4000/4000 [==============================] - 0s 85us/step - loss: 15.3035 - mean_squared_error: 15.3035 - val_loss: 9.3885 - val_mean_squared_error: 9.3885\n",
      "Epoch 4/60\n",
      "4000/4000 [==============================] - 0s 80us/step - loss: 4.8162 - mean_squared_error: 4.8162 - val_loss: 1.1153 - val_mean_squared_error: 1.1153\n",
      "Epoch 5/60\n",
      "4000/4000 [==============================] - 0s 81us/step - loss: 0.5741 - mean_squared_error: 0.5741 - val_loss: 0.1878 - val_mean_squared_error: 0.1878\n",
      "Epoch 6/60\n",
      "4000/4000 [==============================] - 0s 105us/step - loss: 0.1983 - mean_squared_error: 0.1983 - val_loss: 0.0822 - val_mean_squared_error: 0.0822\n",
      "Epoch 7/60\n",
      "4000/4000 [==============================] - 0s 78us/step - loss: 0.1196 - mean_squared_error: 0.1196 - val_loss: 0.1709 - val_mean_squared_error: 0.1709\n",
      "Epoch 8/60\n",
      "4000/4000 [==============================] - 0s 81us/step - loss: 0.1027 - mean_squared_error: 0.1027 - val_loss: 0.0222 - val_mean_squared_error: 0.0222\n",
      "Epoch 9/60\n",
      "4000/4000 [==============================] - 0s 84us/step - loss: 0.0865 - mean_squared_error: 0.0865 - val_loss: 0.0748 - val_mean_squared_error: 0.0748\n",
      "Epoch 10/60\n",
      "4000/4000 [==============================] - 0s 89us/step - loss: 0.0843 - mean_squared_error: 0.0843 - val_loss: 0.0293 - val_mean_squared_error: 0.0293\n",
      "Epoch 11/60\n",
      "4000/4000 [==============================] - 0s 108us/step - loss: 0.0782 - mean_squared_error: 0.0782 - val_loss: 0.0188 - val_mean_squared_error: 0.0188\n",
      "Epoch 12/60\n",
      "4000/4000 [==============================] - 0s 109us/step - loss: 0.0753 - mean_squared_error: 0.0753 - val_loss: 0.3515 - val_mean_squared_error: 0.3515\n",
      "Epoch 13/60\n",
      "4000/4000 [==============================] - 0s 87us/step - loss: 0.0762 - mean_squared_error: 0.0762 - val_loss: 0.0604 - val_mean_squared_error: 0.0604\n",
      "Epoch 14/60\n",
      "4000/4000 [==============================] - 0s 88us/step - loss: 0.0702 - mean_squared_error: 0.0702 - val_loss: 0.0689 - val_mean_squared_error: 0.0689\n",
      "Epoch 15/60\n",
      "4000/4000 [==============================] - 0s 84us/step - loss: 0.0694 - mean_squared_error: 0.0694 - val_loss: 0.0274 - val_mean_squared_error: 0.0274\n",
      "Epoch 16/60\n",
      "4000/4000 [==============================] - 0s 86us/step - loss: 0.0682 - mean_squared_error: 0.0682 - val_loss: 0.0930 - val_mean_squared_error: 0.0930\n",
      "Epoch 17/60\n",
      "4000/4000 [==============================] - 0s 98us/step - loss: 0.0704 - mean_squared_error: 0.0704 - val_loss: 0.1015 - val_mean_squared_error: 0.1015\n",
      "Epoch 18/60\n",
      "4000/4000 [==============================] - 0s 84us/step - loss: 0.0695 - mean_squared_error: 0.0695 - val_loss: 0.0157 - val_mean_squared_error: 0.0157\n",
      "Epoch 19/60\n",
      "4000/4000 [==============================] - 0s 88us/step - loss: 0.0639 - mean_squared_error: 0.0639 - val_loss: 0.0111 - val_mean_squared_error: 0.0111\n",
      "Epoch 20/60\n",
      "4000/4000 [==============================] - 0s 97us/step - loss: 0.0671 - mean_squared_error: 0.0671 - val_loss: 0.0114 - val_mean_squared_error: 0.0114\n",
      "Epoch 21/60\n",
      "4000/4000 [==============================] - 0s 109us/step - loss: 0.0661 - mean_squared_error: 0.0661 - val_loss: 0.0901 - val_mean_squared_error: 0.0901\n",
      "Epoch 22/60\n",
      "4000/4000 [==============================] - 0s 106us/step - loss: 0.0634 - mean_squared_error: 0.0634 - val_loss: 0.2134 - val_mean_squared_error: 0.2134\n",
      "Epoch 23/60\n",
      "4000/4000 [==============================] - 0s 97us/step - loss: 0.0642 - mean_squared_error: 0.0642 - val_loss: 0.0233 - val_mean_squared_error: 0.0233\n",
      "Epoch 24/60\n",
      "4000/4000 [==============================] - 0s 93us/step - loss: 0.0659 - mean_squared_error: 0.0659 - val_loss: 0.0193 - val_mean_squared_error: 0.0193\n",
      "Epoch 25/60\n",
      "4000/4000 [==============================] - 0s 88us/step - loss: 0.0607 - mean_squared_error: 0.0607 - val_loss: 0.0304 - val_mean_squared_error: 0.0304\n",
      "Epoch 26/60\n",
      "4000/4000 [==============================] - 0s 95us/step - loss: 0.0629 - mean_squared_error: 0.0629 - val_loss: 0.0225 - val_mean_squared_error: 0.0225\n",
      "Epoch 27/60\n",
      "4000/4000 [==============================] - 0s 93us/step - loss: 0.0608 - mean_squared_error: 0.0608 - val_loss: 0.0142 - val_mean_squared_error: 0.0142\n",
      "Epoch 28/60\n",
      "4000/4000 [==============================] - 0s 96us/step - loss: 0.0627 - mean_squared_error: 0.0627 - val_loss: 0.0684 - val_mean_squared_error: 0.0684\n",
      "Epoch 29/60\n",
      "4000/4000 [==============================] - 0s 96us/step - loss: 0.0623 - mean_squared_error: 0.0623 - val_loss: 0.0280 - val_mean_squared_error: 0.0280\n",
      "Epoch 30/60\n",
      "4000/4000 [==============================] - 0s 91us/step - loss: 0.0596 - mean_squared_error: 0.0596 - val_loss: 0.0962 - val_mean_squared_error: 0.0962\n",
      "Epoch 31/60\n",
      "4000/4000 [==============================] - 0s 95us/step - loss: 0.0634 - mean_squared_error: 0.0634 - val_loss: 0.0046 - val_mean_squared_error: 0.0046\n",
      "Epoch 32/60\n",
      "4000/4000 [==============================] - 0s 93us/step - loss: 0.0603 - mean_squared_error: 0.0603 - val_loss: 0.0076 - val_mean_squared_error: 0.0076\n",
      "Epoch 33/60\n",
      "4000/4000 [==============================] - 0s 86us/step - loss: 0.0605 - mean_squared_error: 0.0605 - val_loss: 0.0351 - val_mean_squared_error: 0.0351\n",
      "Epoch 34/60\n",
      "4000/4000 [==============================] - 0s 90us/step - loss: 0.0598 - mean_squared_error: 0.0598 - val_loss: 0.0196 - val_mean_squared_error: 0.0196\n",
      "Epoch 35/60\n",
      "4000/4000 [==============================] - 0s 87us/step - loss: 0.0606 - mean_squared_error: 0.0606 - val_loss: 0.0533 - val_mean_squared_error: 0.0533\n",
      "Epoch 36/60\n",
      "4000/4000 [==============================] - 0s 80us/step - loss: 0.0597 - mean_squared_error: 0.0597 - val_loss: 0.0067 - val_mean_squared_error: 0.0067\n",
      "Epoch 37/60\n",
      "4000/4000 [==============================] - 0s 81us/step - loss: 0.0594 - mean_squared_error: 0.0594 - val_loss: 0.0348 - val_mean_squared_error: 0.0348\n",
      "Epoch 38/60\n",
      "4000/4000 [==============================] - 0s 80us/step - loss: 0.0587 - mean_squared_error: 0.0587 - val_loss: 0.0013 - val_mean_squared_error: 0.0013\n",
      "Epoch 39/60\n",
      "4000/4000 [==============================] - 0s 80us/step - loss: 0.0585 - mean_squared_error: 0.0585 - val_loss: 0.0740 - val_mean_squared_error: 0.0740\n",
      "Epoch 40/60\n",
      "4000/4000 [==============================] - 0s 83us/step - loss: 0.0574 - mean_squared_error: 0.0574 - val_loss: 0.0080 - val_mean_squared_error: 0.0080\n",
      "Epoch 41/60\n",
      "4000/4000 [==============================] - 0s 90us/step - loss: 0.0586 - mean_squared_error: 0.0586 - val_loss: 0.0689 - val_mean_squared_error: 0.0689\n",
      "Epoch 42/60\n",
      "4000/4000 [==============================] - 0s 90us/step - loss: 0.0574 - mean_squared_error: 0.0574 - val_loss: 0.0136 - val_mean_squared_error: 0.0136\n",
      "Epoch 43/60\n",
      "4000/4000 [==============================] - 0s 84us/step - loss: 0.0575 - mean_squared_error: 0.0575 - val_loss: 0.0216 - val_mean_squared_error: 0.0216\n",
      "Epoch 44/60\n",
      "4000/4000 [==============================] - 0s 95us/step - loss: 0.0559 - mean_squared_error: 0.0559 - val_loss: 9.0559e-04 - val_mean_squared_error: 9.0559e-04\n",
      "Epoch 45/60\n",
      "4000/4000 [==============================] - 0s 89us/step - loss: 0.0556 - mean_squared_error: 0.0556 - val_loss: 0.0043 - val_mean_squared_error: 0.0043\n",
      "Epoch 46/60\n",
      "4000/4000 [==============================] - 0s 93us/step - loss: 0.0586 - mean_squared_error: 0.0586 - val_loss: 0.0352 - val_mean_squared_error: 0.0352\n",
      "Epoch 47/60\n",
      "4000/4000 [==============================] - 0s 86us/step - loss: 0.0571 - mean_squared_error: 0.0571 - val_loss: 0.0036 - val_mean_squared_error: 0.0036\n",
      "Epoch 48/60\n",
      "4000/4000 [==============================] - 0s 84us/step - loss: 0.0567 - mean_squared_error: 0.0567 - val_loss: 0.0202 - val_mean_squared_error: 0.0202\n",
      "Epoch 49/60\n",
      "4000/4000 [==============================] - 0s 85us/step - loss: 0.0584 - mean_squared_error: 0.0584 - val_loss: 0.0040 - val_mean_squared_error: 0.0040\n"
     ]
    },
    {
     "name": "stdout",
     "output_type": "stream",
     "text": [
      "Epoch 50/60\n",
      "4000/4000 [==============================] - 0s 75us/step - loss: 0.0546 - mean_squared_error: 0.0546 - val_loss: 0.1158 - val_mean_squared_error: 0.1158\n",
      "Epoch 51/60\n",
      "4000/4000 [==============================] - 0s 74us/step - loss: 0.0590 - mean_squared_error: 0.0590 - val_loss: 0.0633 - val_mean_squared_error: 0.0633\n",
      "Epoch 52/60\n",
      "4000/4000 [==============================] - 0s 74us/step - loss: 0.0574 - mean_squared_error: 0.0574 - val_loss: 9.3405e-04 - val_mean_squared_error: 9.3405e-04\n",
      "Epoch 53/60\n",
      "4000/4000 [==============================] - 0s 76us/step - loss: 0.0553 - mean_squared_error: 0.0553 - val_loss: 0.0530 - val_mean_squared_error: 0.0530\n",
      "Epoch 54/60\n",
      "4000/4000 [==============================] - 0s 76us/step - loss: 0.0551 - mean_squared_error: 0.0551 - val_loss: 0.0564 - val_mean_squared_error: 0.0564\n",
      "Epoch 55/60\n",
      "4000/4000 [==============================] - 0s 74us/step - loss: 0.0559 - mean_squared_error: 0.0559 - val_loss: 0.0052 - val_mean_squared_error: 0.0052\n",
      "Epoch 56/60\n",
      "4000/4000 [==============================] - 0s 98us/step - loss: 0.0526 - mean_squared_error: 0.0526 - val_loss: 0.0095 - val_mean_squared_error: 0.0095\n",
      "Epoch 57/60\n",
      "4000/4000 [==============================] - 0s 82us/step - loss: 0.0560 - mean_squared_error: 0.0560 - val_loss: 0.0149 - val_mean_squared_error: 0.0149\n",
      "Epoch 58/60\n",
      "4000/4000 [==============================] - 0s 92us/step - loss: 0.0538 - mean_squared_error: 0.0538 - val_loss: 0.1190 - val_mean_squared_error: 0.1190\n",
      "Epoch 59/60\n",
      "4000/4000 [==============================] - 0s 79us/step - loss: 0.0553 - mean_squared_error: 0.0553 - val_loss: 0.0089 - val_mean_squared_error: 0.0089\n",
      "Epoch 60/60\n",
      "4000/4000 [==============================] - 0s 93us/step - loss: 0.0534 - mean_squared_error: 0.0534 - val_loss: 0.0115 - val_mean_squared_error: 0.0115\n"
     ]
    }
   ],
   "source": [
    "history = model.fit(x_train, # Features\n",
    "                    y_train, # Target vector\n",
    "                    epochs=60, # Number of epochs\n",
    "                    verbose=1, # No output\n",
    "                    batch_size=10, # Number of observations per batch\n",
    "                    validation_data=(x_test, y_test)) # Data for evaluation"
   ]
  },
  {
   "cell_type": "code",
   "execution_count": 7,
   "metadata": {},
   "outputs": [
    {
     "name": "stdout",
     "output_type": "stream",
     "text": [
      "1000/1000 [==============================] - 0s 17us/step\n"
     ]
    },
    {
     "data": {
      "text/plain": [
       "[0.011512644618749618, 0.011512644618749618]"
      ]
     },
     "execution_count": 7,
     "metadata": {},
     "output_type": "execute_result"
    }
   ],
   "source": [
    "model.evaluate(x_test, y_test)\n"
   ]
  },
  {
   "cell_type": "code",
   "execution_count": null,
   "metadata": {},
   "outputs": [],
   "source": []
  }
 ],
 "metadata": {
  "kernelspec": {
   "display_name": "Python 3",
   "language": "python",
   "name": "python3"
  },
  "language_info": {
   "codemirror_mode": {
    "name": "ipython",
    "version": 3
   },
   "file_extension": ".py",
   "mimetype": "text/x-python",
   "name": "python",
   "nbconvert_exporter": "python",
   "pygments_lexer": "ipython3",
   "version": "3.6.5"
  }
 },
 "nbformat": 4,
 "nbformat_minor": 2
}
