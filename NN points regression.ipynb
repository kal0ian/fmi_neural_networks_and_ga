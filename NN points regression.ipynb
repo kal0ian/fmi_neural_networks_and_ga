{
 "cells": [
  {
   "cell_type": "code",
   "execution_count": 1,
   "metadata": {},
   "outputs": [
    {
     "name": "stderr",
     "output_type": "stream",
     "text": [
      "Using TensorFlow backend.\n"
     ]
    }
   ],
   "source": [
    "import numpy as np\n",
    "import pandas as pd\n",
    "from keras.preprocessing.text import Tokenizer\n",
    "from keras import models\n",
    "from keras import layers\n",
    "from sklearn.datasets import make_regression\n",
    "from sklearn.model_selection import train_test_split\n",
    "from sklearn import preprocessing\n",
    "import matplotlib.pyplot as plt"
   ]
  },
  {
   "cell_type": "code",
   "execution_count": 2,
   "metadata": {},
   "outputs": [],
   "source": [
    "df_train = pd.read_csv(\"data_train.csv\")\n",
    "df_test = pd.read_csv(\"data_test.csv\")"
   ]
  },
  {
   "cell_type": "code",
   "execution_count": 3,
   "metadata": {},
   "outputs": [],
   "source": [
    "x_train = df_train.values[:,:-2]\n",
    "y_train = df_train.values[:,-2]"
   ]
  },
  {
   "cell_type": "code",
   "execution_count": 4,
   "metadata": {},
   "outputs": [],
   "source": [
    "x_test = df_test.values[:,:-2]\n",
    "y_test = df_test.values[:,-2]"
   ]
  },
  {
   "cell_type": "code",
   "execution_count": 5,
   "metadata": {},
   "outputs": [],
   "source": [
    "model = models.Sequential()\n",
    "model.add(layers.Dense(units=16, activation='relu', input_shape=(x_train.shape[1],)))\n",
    "model.add(layers.Dense(units=1))\n",
    "model.compile(loss='mse',\n",
    "              optimizer='RMSprop',\n",
    "              metrics=['mse'])"
   ]
  },
  {
   "cell_type": "code",
   "execution_count": 6,
   "metadata": {},
   "outputs": [
    {
     "name": "stdout",
     "output_type": "stream",
     "text": [
      "Train on 3600 samples, validate on 400 samples\n",
      "Epoch 1/40\n",
      "3600/3600 [==============================] - 0s 103us/step - loss: 1587.8417 - mean_squared_error: 1587.8417 - val_loss: 1498.2242 - val_mean_squared_error: 1498.2242\n",
      "Epoch 2/40\n",
      "3600/3600 [==============================] - 0s 72us/step - loss: 1347.4656 - mean_squared_error: 1347.4656 - val_loss: 1195.3693 - val_mean_squared_error: 1195.3693\n",
      "Epoch 3/40\n",
      "3600/3600 [==============================] - 0s 71us/step - loss: 1003.3176 - mean_squared_error: 1003.3176 - val_loss: 809.4159 - val_mean_squared_error: 809.4159\n",
      "Epoch 4/40\n",
      "3600/3600 [==============================] - 0s 71us/step - loss: 611.1053 - mean_squared_error: 611.1053 - val_loss: 423.9088 - val_mean_squared_error: 423.9088\n",
      "Epoch 5/40\n",
      "3600/3600 [==============================] - 0s 70us/step - loss: 273.8991 - mean_squared_error: 273.8991 - val_loss: 155.5467 - val_mean_squared_error: 155.5467\n",
      "Epoch 6/40\n",
      "3600/3600 [==============================] - 0s 84us/step - loss: 87.0219 - mean_squared_error: 87.0219 - val_loss: 47.6337 - val_mean_squared_error: 47.6337\n",
      "Epoch 7/40\n",
      "3600/3600 [==============================] - 0s 82us/step - loss: 37.0675 - mean_squared_error: 37.0675 - val_loss: 34.2140 - val_mean_squared_error: 34.2140\n",
      "Epoch 8/40\n",
      "3600/3600 [==============================] - 0s 100us/step - loss: 32.0112 - mean_squared_error: 32.0112 - val_loss: 31.0731 - val_mean_squared_error: 31.0731\n",
      "Epoch 9/40\n",
      "3600/3600 [==============================] - 0s 83us/step - loss: 29.4138 - mean_squared_error: 29.4138 - val_loss: 28.3931 - val_mean_squared_error: 28.3931\n",
      "Epoch 10/40\n",
      "3600/3600 [==============================] - 0s 79us/step - loss: 26.8343 - mean_squared_error: 26.8343 - val_loss: 25.4626 - val_mean_squared_error: 25.4626\n",
      "Epoch 11/40\n",
      "3600/3600 [==============================] - 0s 73us/step - loss: 23.9740 - mean_squared_error: 23.9740 - val_loss: 22.3448 - val_mean_squared_error: 22.3448\n",
      "Epoch 12/40\n",
      "3600/3600 [==============================] - 0s 94us/step - loss: 20.8350 - mean_squared_error: 20.8350 - val_loss: 19.0860 - val_mean_squared_error: 19.0860\n",
      "Epoch 13/40\n",
      "3600/3600 [==============================] - 0s 77us/step - loss: 17.7279 - mean_squared_error: 17.7279 - val_loss: 16.1054 - val_mean_squared_error: 16.1054\n",
      "Epoch 14/40\n",
      "3600/3600 [==============================] - 0s 73us/step - loss: 14.7922 - mean_squared_error: 14.7922 - val_loss: 13.4532 - val_mean_squared_error: 13.4532\n",
      "Epoch 15/40\n",
      "3600/3600 [==============================] - 0s 72us/step - loss: 12.3373 - mean_squared_error: 12.3373 - val_loss: 11.4253 - val_mean_squared_error: 11.4253\n",
      "Epoch 16/40\n",
      "3600/3600 [==============================] - 0s 72us/step - loss: 10.2303 - mean_squared_error: 10.2303 - val_loss: 9.5438 - val_mean_squared_error: 9.5438\n",
      "Epoch 17/40\n",
      "3600/3600 [==============================] - 0s 74us/step - loss: 8.4622 - mean_squared_error: 8.4622 - val_loss: 8.0325 - val_mean_squared_error: 8.0325\n",
      "Epoch 18/40\n",
      "3600/3600 [==============================] - 0s 75us/step - loss: 7.0132 - mean_squared_error: 7.0132 - val_loss: 6.6912 - val_mean_squared_error: 6.6912\n",
      "Epoch 19/40\n",
      "3600/3600 [==============================] - 0s 76us/step - loss: 5.7183 - mean_squared_error: 5.7183 - val_loss: 5.7356 - val_mean_squared_error: 5.7356\n",
      "Epoch 20/40\n",
      "3600/3600 [==============================] - 0s 84us/step - loss: 4.6735 - mean_squared_error: 4.6735 - val_loss: 4.6444 - val_mean_squared_error: 4.6444\n",
      "Epoch 21/40\n",
      "3600/3600 [==============================] - 0s 89us/step - loss: 3.7823 - mean_squared_error: 3.7823 - val_loss: 3.9523 - val_mean_squared_error: 3.9523\n",
      "Epoch 22/40\n",
      "3600/3600 [==============================] - 0s 74us/step - loss: 3.0082 - mean_squared_error: 3.0082 - val_loss: 3.1526 - val_mean_squared_error: 3.1526\n",
      "Epoch 23/40\n",
      "3600/3600 [==============================] - 0s 74us/step - loss: 2.3771 - mean_squared_error: 2.3771 - val_loss: 2.6014 - val_mean_squared_error: 2.6014\n",
      "Epoch 24/40\n",
      "3600/3600 [==============================] - 0s 74us/step - loss: 1.8925 - mean_squared_error: 1.8925 - val_loss: 2.1805 - val_mean_squared_error: 2.1805\n",
      "Epoch 25/40\n",
      "3600/3600 [==============================] - 0s 71us/step - loss: 1.4793 - mean_squared_error: 1.4793 - val_loss: 1.7678 - val_mean_squared_error: 1.7678\n",
      "Epoch 26/40\n",
      "3600/3600 [==============================] - 0s 76us/step - loss: 1.1398 - mean_squared_error: 1.1398 - val_loss: 1.4162 - val_mean_squared_error: 1.4162\n",
      "Epoch 27/40\n",
      "3600/3600 [==============================] - 0s 74us/step - loss: 0.8490 - mean_squared_error: 0.8490 - val_loss: 1.1513 - val_mean_squared_error: 1.1513\n",
      "Epoch 28/40\n",
      "3600/3600 [==============================] - 0s 74us/step - loss: 0.6552 - mean_squared_error: 0.6552 - val_loss: 0.9053 - val_mean_squared_error: 0.9053\n",
      "Epoch 29/40\n",
      "3600/3600 [==============================] - 0s 75us/step - loss: 0.4833 - mean_squared_error: 0.4833 - val_loss: 0.7114 - val_mean_squared_error: 0.7114\n",
      "Epoch 30/40\n",
      "3600/3600 [==============================] - 0s 76us/step - loss: 0.3680 - mean_squared_error: 0.3680 - val_loss: 0.6182 - val_mean_squared_error: 0.6182\n",
      "Epoch 31/40\n",
      "3600/3600 [==============================] - 0s 75us/step - loss: 0.2854 - mean_squared_error: 0.2854 - val_loss: 0.5500 - val_mean_squared_error: 0.5500\n",
      "Epoch 32/40\n",
      "3600/3600 [==============================] - 0s 74us/step - loss: 0.2254 - mean_squared_error: 0.2254 - val_loss: 0.4920 - val_mean_squared_error: 0.4920\n",
      "Epoch 33/40\n",
      "3600/3600 [==============================] - 0s 75us/step - loss: 0.1844 - mean_squared_error: 0.1844 - val_loss: 0.4281 - val_mean_squared_error: 0.4281\n",
      "Epoch 34/40\n",
      "3600/3600 [==============================] - 0s 79us/step - loss: 0.1535 - mean_squared_error: 0.1535 - val_loss: 0.3738 - val_mean_squared_error: 0.3738\n",
      "Epoch 35/40\n",
      "3600/3600 [==============================] - 0s 80us/step - loss: 0.1296 - mean_squared_error: 0.1296 - val_loss: 0.3448 - val_mean_squared_error: 0.3448\n",
      "Epoch 36/40\n",
      "3600/3600 [==============================] - 0s 80us/step - loss: 0.1089 - mean_squared_error: 0.1089 - val_loss: 0.3332 - val_mean_squared_error: 0.3332\n",
      "Epoch 37/40\n",
      "3600/3600 [==============================] - 0s 76us/step - loss: 0.0961 - mean_squared_error: 0.0961 - val_loss: 0.3180 - val_mean_squared_error: 0.3180\n",
      "Epoch 38/40\n",
      "3600/3600 [==============================] - 0s 76us/step - loss: 0.0856 - mean_squared_error: 0.0856 - val_loss: 0.3076 - val_mean_squared_error: 0.3076\n",
      "Epoch 39/40\n",
      "3600/3600 [==============================] - 0s 78us/step - loss: 0.0744 - mean_squared_error: 0.0744 - val_loss: 0.2958 - val_mean_squared_error: 0.2958\n",
      "Epoch 40/40\n",
      "3600/3600 [==============================] - 0s 77us/step - loss: 0.0631 - mean_squared_error: 0.0631 - val_loss: 0.2724 - val_mean_squared_error: 0.2724\n",
      "Wall time: 11.4 s\n"
     ]
    }
   ],
   "source": [
    "%%time\n",
    "history = model.fit(x_train,\n",
    "                    y_train,\n",
    "                    epochs=40,\n",
    "                    verbose=1,\n",
    "                    batch_size=10,\n",
    "                    validation_split=0.1)"
   ]
  },
  {
   "cell_type": "code",
   "execution_count": 7,
   "metadata": {},
   "outputs": [
    {
     "name": "stdout",
     "output_type": "stream",
     "text": [
      "1000/1000 [==============================] - 0s 16us/step\n"
     ]
    },
    {
     "data": {
      "text/plain": [
       "[0.0021184853008016946, 0.0021184853008016946]"
      ]
     },
     "execution_count": 7,
     "metadata": {},
     "output_type": "execute_result"
    }
   ],
   "source": [
    "model.evaluate(x_test, y_test)\n"
   ]
  },
  {
   "cell_type": "code",
   "execution_count": 8,
   "metadata": {},
   "outputs": [
    {
     "data": {
      "image/png": "[encoded data removed]",
      "text/plain": [
       "<Figure size 432x288 with 1 Axes>"
      ]
     },
     "metadata": {},
     "output_type": "display_data"
    }
   ],
   "source": [
    "plt.plot(history.history['loss'])\n",
    "plt.plot(history.history['val_loss'])\n",
    "plt.title('model loss')\n",
    "plt.ylabel('loss')\n",
    "plt.xlabel('epoch')\n",
    "plt.legend(['train', 'validation'], loc='upper left')\n",
    "plt.show()"
   ]
  },
  {
   "cell_type": "code",
   "execution_count": null,
   "metadata": {},
   "outputs": [],
   "source": []
  }
 ],
 "metadata": {
  "kernelspec": {
   "display_name": "Python 3",
   "language": "python",
   "name": "python3"
  },
  "language_info": {
   "codemirror_mode": {
    "name": "ipython",
    "version": 3
   },
   "file_extension": ".py",
   "mimetype": "text/x-python",
   "name": "python",
   "nbconvert_exporter": "python",
   "pygments_lexer": "ipython3",
   "version": "3.6.5"
  }
 },
 "nbformat": 4,
 "nbformat_minor": 2
}
